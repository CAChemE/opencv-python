{
 "cells": [
  {
   "cell_type": "markdown",
   "metadata": {
    "nbpresent": {
     "id": "72a7c411-cf21-4d47-a9b9-f5db1f8c9c60"
    }
   },
   "source": [
    "# CURSO DE INTRODUCCIÓN A OPENCV Y PYTHON"
   ]
  },
  {
   "cell_type": "markdown",
   "metadata": {
    "nbpresent": {
     "id": "7cd741bd-a4ab-4824-9dcd-3708cfbad4e3"
    }
   },
   "source": [
    "¿Quién soy?\n",
    "\n",
    "**Rubén Crespo Cano**\n",
    "\n",
    "Estudios:\n",
    "* Ingeniería en Informática [Universidad de Alicante] (2006 - 2012)\n",
    "* Máster en Ingeniería de Telecomunicación [Universidad de Alicante] (2012 - 2015)\n",
    "* Doctorado en Informática [Universidad de Alicante] (2016 - Presente)\n",
    "\n",
    "Trabajo:\n",
    "* Ingeniero de software en Everilion (http://www.everilion.com)"
   ]
  },
  {
   "cell_type": "markdown",
   "metadata": {
    "nbpresent": {
     "id": "a32ecb3d-7126-45aa-b39c-f245fd0245a4"
    }
   },
   "source": [
    "# 0. Introducción\n",
    "\n",
    "\n",
    "## OpenCV\n",
    "OpenCV es una biblioteca de visión artificial de código libre, escrita en C++, originalmente desarrollada por Gary Bradsky en Intel. Fue construida para proporcionar una infrastructura común para aplicaciones de visión por computador. \n",
    "\n",
    "La librería contiene más de 2500 algoritmos optimizados, entre los que se incluyen algoritmos clásicos y algoritmos del estado del arte de los campos de visión por computador y aprendizaje automático.\n",
    "\n",
    "Características principales:\n",
    "* Licencia BSD.\n",
    "* Interfaces: C++, C, Python, Java y MATLAB.\n",
    "* Sistemas Operativos: Windows, GNU/Linux, Android y Mac OS.\n",
    "* Soporte CUDA y OpenCL.\n",
    "\n",
    "URL: http://www.opencv.org\n",
    "\n",
    "\n",
    "## Python\n",
    "Python es un lenguaje de programación creado por Guido van Rossum a principios de los años 90 cuyo nombre está inspirado en el grupo de cómicos ingleses *Monty Python*. Es un lenguaje similar a Perl, pero con una sintaxis muy limpia y que favorece un código legible. Python es un lenguaje de propósito general que ha llegado a ser muy popular en muy poco tiempo debido a su simplicidad y legibilidad, ya que permite a el/la programador/a expresar ideas en muy pocas líneas de código sin reducir la legibilidad.\n",
    "\n",
    "Se trata de un lenguaje interpretado o de script, con tipado dinámico, fuertemente tipado, multiplataforma y orientado a objetos.\n",
    "\n",
    "Si se compara con lenguajes como C/C++, Python es generalmente más lento. Dicho esto, Python puede ser fácimente extendido mediante código C/C++, lo que permite escribir código fuente computacionalmente intensivo en C/C++ y crear envolturas en Python que puedan ser usadas por módulos de Python. Esto proporciona dos ventajas: primero, el código es tan rápido como el código original C/C++ y segundo, es más fácil desarrollar en Python que en C/C++.\n",
    "\n",
    "URL: https://www.python.org/\n",
    "\n",
    "\n",
    "## OpenCV-Python\n",
    "\n",
    "OpenCV-Python es el API de OpenCV para Python, donde se combinan las mejores cualidades del API C++ de OpenCV con el lenguaje de programación Python, diseñada para resolver problemas de visión por computador. \n",
    "\n",
    "OpenCV-Python hace uso de Numpy, que es una librería altamente optimizada para operaciones de cálculo numérico con una sintaxis similar a la de MATLAB. Todas las estructuras array son convertidas a Numpy arrays. Esto permite la integración con otras librerías que también hacen uso de Numpy, tales como SciPy o Matplotlib."
   ]
  },
  {
   "cell_type": "markdown",
   "metadata": {
    "nbpresent": {
     "id": "c46893e7-63cc-4cd0-a5fe-85a94f724611"
    }
   },
   "source": [
    "# 1. Instalación\n"
   ]
  },
  {
   "cell_type": "markdown",
   "metadata": {
    "nbpresent": {
     "id": "ce9a3de4-cd6b-4df8-bfb2-9e62e1243c7e"
    }
   },
   "source": [
    "# 2. Manejo de ficheros, cámaras e interfaces gráficas de usuario\n",
    "\n",
    "La gran mayoría de aplicaciones que se desarrollan con OpenCV necesitan como entrada una o varias imágenes, pero también puede ser que esas imágenes se presenten en forma de vídeo. Además, también es bastante probable que las aplicaciones necesiten generar como salida del programa una nueva imágen. \n",
    "\n",
    "\n",
    "## Lectura y escritura de imágenes\n",
    "Hay que utilizar la función **cv2.imread()** para leer una imágen. La imágen debe estar en el directorio de trabajo o debe proporcionarse la ruta absoluta de la imagen.\n",
    "\n",
    "El segundo argumento es un *flag* que especifica la forma en la que la imagen debe ser leída.\n",
    "* cv2.IMREAD_COLOR: Carga la imagen a color. Si la imagen posee transparencias serán desechadas. Es el *flag* por defecto.\n",
    "* cv2.IMREAD_GRAYSCALE: Carga la imagen en modo escala de grises.\n",
    "* cv2.IMREAD_UNCHANGED: Carla la imagen incluyendo el canal *alpha*.\n",
    "\n",
    "Para poder escribir/guardar una nueva imagen, hay que utilizar la función **cv2.imwrite()**.\n",
    "\n",
    "\n",
    "**Ejemplo 1**. Cargar una imagen y guardarla con otro nombre."
   ]
  },
  {
   "cell_type": "code",
   "execution_count": 5,
   "metadata": {
    "collapsed": false,
    "nbpresent": {
     "id": "8751a1a2-8b04-4589-a932-4225e954220f"
    }
   },
   "outputs": [
    {
     "data": {
      "text/plain": [
       "True"
      ]
     },
     "execution_count": 5,
     "metadata": {},
     "output_type": "execute_result"
    }
   ],
   "source": [
    "import cv2\n",
    "\n",
    "# Load an color image\n",
    "image = cv2.imread('images/rabbit.jpg')\n",
    "cv2.imwrite('images/rabbit-copy.png', image)"
   ]
  },
  {
   "cell_type": "markdown",
   "metadata": {
    "nbpresent": {
     "id": "5a74133a-56c5-4d91-b13b-33ab05d996ce"
    }
   },
   "source": [
    "\n",
    "**Ejercicio 1**. Cargar una imagen y guardar una copia en blanco y negro."
   ]
  },
  {
   "cell_type": "code",
   "execution_count": 15,
   "metadata": {
    "collapsed": true,
    "nbpresent": {
     "id": "53036ea1-9525-4153-ba9b-11f2494d8696"
    }
   },
   "outputs": [],
   "source": [
    "# Ejercicio 1"
   ]
  },
  {
   "cell_type": "markdown",
   "metadata": {
    "nbpresent": {
     "id": "6fcb7aee-2b44-4099-bb62-88ed8d1a557c"
    }
   },
   "source": [
    "## Conversión entre imágenes y *raw bytes*\n",
    "Conceptualmente, un byte es un entero que se encuentra en el rango [0, 255]. En las aplicaciones actuales, un píxel es representado normalmente por un byte por canal, aunque también pueden haber otras representaciones.\n",
    "\n",
    "Una imagen OpenCV es un array 2D o 3D de tipo **numpy.array**. Una imagen en escala de grises de 8 bits es un array 2D que contiene valores para cada byte. Una imagen a color RGB es un array 3D, que también contiene valores para cada byte. Es posible acceder a esos valores utilizando una expresión como la siguiente:\n",
    "* image[0, 0] o image[0, 0, 0]\n",
    "\n",
    "El primer índice representa la coordenada *y* (fila), siendo el 0 el valor que está más arriba. El segundo índice representa la coordenada *x* (columna), siendo el valor 0 el que está más a la izquierda. El tercer índice (en imágenes RGB) representa el canal de color.\n",
    "\n",
    "Por ejemplo, una imagen en escala de grises con un píxel blanco en la esquina superior izquierda, image[0, 0] sería 255. Para una imagen RGB con un píxel de color azul en la esquina superior izquierda, image[0, 0] sería [255, 0, 0].\n",
    "\n",
    "\n",
    "\n",
    "## Introducción al manejo de vídeos\n",
    "\n",
    "Para capturar un vídeo, es necesario crear un objeto de tipo **VideoCapture**. Su argumento puede ser tanto el índice del dispositivo o el nombre del fichero.\n",
    "\n",
    "El índice del dispositivo es el número que identifica qué camara capturar. Como normalmente sólo suele haber una cámara conectada, se suele utilizar el identificador 0 para capturar de ella.\n",
    "\n",
    "El método **cap.read()** devuelve un valor booleano (True/False). Si el *frame* se leyó correctamente, devolverá True. De esta forma, se puede comprobar cuándo se ha llegado al final de la lectura del vídeo comprobando este parámetro. \n",
    "\n",
    "A veces, el objeto **VideoCapture** puede no haber logrado la inicialización de la captura correctamente. Por ello, es mejor comprobar si se ha inicializado o no a través del método **cap.isOpened()**. Si el resultado es True es que sí se ha podido abrir la captura.\n",
    "\n",
    "\n",
    "**Ejemplo 2**. Cargar y reproducir un vídeo en escala de grises."
   ]
  },
  {
   "cell_type": "code",
   "execution_count": 4,
   "metadata": {
    "collapsed": false
   },
   "outputs": [],
   "source": [
    "import numpy as np\n",
    "import cv2\n",
    "\n",
    "video_file = 'videos/roller-coaster.mp4'\n",
    "cap = cv2.VideoCapture(video_file)\n",
    "\n",
    "while (cap.isOpened()):\n",
    "    # Capture frame-by-frame\n",
    "    ret, frame = cap.read()\n",
    "    if ret == True:\n",
    "        # Operations on the frame\n",
    "        gray = cv2.cvtColor(frame, cv2.COLOR_BGR2GRAY)\n",
    "\n",
    "        # Display the resulting frame\n",
    "        cv2.imshow('frame', gray)\n",
    "    \n",
    "        # Exit?\n",
    "        if cv2.waitKey(1) & 0xFF == ord('q'):\n",
    "            break\n",
    "    else:\n",
    "        break\n",
    "\n",
    "cap.release()\n",
    "cv2.destroyAllWindows()"
   ]
  },
  {
   "cell_type": "markdown",
   "metadata": {},
   "source": [
    "Además, también es posible acceder a algunas de las propiedades del vídeo utilizando el método **cap.get(prop_id)** donde **prop_id** es un número [0, 18] que denota una propiedad del vídeo. Por último, hay que destacar que algunos de esos valores pueden ser modificados mediante el método **cap.set(prop_id, value)**. En el siguiente enlace están descritas todas las propiedades:\n",
    "* http://docs.opencv.org/2.4/modules/highgui/doc/reading_and_writing_images_and_video.html#videocapture-get\n",
    "\n",
    "\n",
    "**Ejemplo 3**. Mostrar los FPS del vídeo"
   ]
  },
  {
   "cell_type": "code",
   "execution_count": null,
   "metadata": {
    "collapsed": true
   },
   "outputs": [],
   "source": [
    "import numpy as np\n",
    "import cv2\n",
    "\n",
    "video_file = 'videos/roller-coaster.mp4'\n",
    "cap = cv2.VideoCapture(video_file)\n",
    "\n",
    "font = cv2.FONT_HERSHEY_SIMPLEX\n",
    "font_scale = 1\n",
    "color = (255,255,255)\n",
    "thickness = 1\n",
    "\n",
    "while(cap.isOpened()):\n",
    "    ret, frame = cap.read()\n",
    "    if ret == True:\n",
    "        # Text position\n",
    "        height = int(cap.get(cv2.cv.CV_CAP_PROP_FRAME_HEIGHT))\n",
    "        position = (50, height - 50)\n",
    "        \n",
    "        # Frames per second\n",
    "        fps = \"{0:.2f}\".format(cap.get(cv2.cv.CV_CAP_PROP_FPS))\n",
    "        text = \"FPS: \" + fps\n",
    "        \n",
    "        # Put text\n",
    "        cv2.putText(frame, text, position, font, font_scale, color, thickness)\n",
    "\n",
    "        # Display\n",
    "        cv2.imshow(\"Video\", frame)\n",
    "        \n",
    "        # Exit?\n",
    "        if cv2.waitKey(1) & 0xFF == ord('q'):\n",
    "            break\n",
    "    else:\n",
    "        break\n",
    "\n",
    "# Release everything if job is finished\n",
    "cap.release()\n",
    "cv2.destroyAllWindows()"
   ]
  },
  {
   "cell_type": "markdown",
   "metadata": {},
   "source": [
    "\n",
    "**Ejercicio 2**. Descargar un vídeo de https://videos.pexels.com/video-license y mostrar las propiedades más relevantes sobre el propio vídeo mientras se reproduce."
   ]
  },
  {
   "cell_type": "code",
   "execution_count": null,
   "metadata": {
    "collapsed": true
   },
   "outputs": [],
   "source": [
    "# Ejercicio 2"
   ]
  },
  {
   "cell_type": "markdown",
   "metadata": {},
   "source": [
    "## Captura de vídeo desde la *webcam* \n",
    "\n",
    "El índice del dispositivo es el número que identifica qué camara capturar. Como normalmente sólo suele haber una cámara conectada, se suele utilizar el identificador 0 para capturar de ella."
   ]
  },
  {
   "cell_type": "code",
   "execution_count": null,
   "metadata": {
    "collapsed": true
   },
   "outputs": [],
   "source": [
    "import numpy as np\n",
    "import cv2\n",
    "\n",
    "cap = cv2.VideoCapture(0)\n",
    "\n",
    "while(cap.isOpened()):\n",
    "    # Capture frame-by-frame\n",
    "    ret, frame = cap.read()\n",
    "    if ret == True:\n",
    "        # Operations on the frame\n",
    "        v_frame = cv2.flip(frame, 1)\n",
    "        h_frame = cv2.flip(frame, 0)\n",
    "        \n",
    "        # Display\n",
    "        cv2.imshow(\"Original\", frame)\n",
    "        cv2.imshow(\"Vertical flip\", v_frame)\n",
    "        cv2.imshow(\"Horizontal flip\", h_frame)\n",
    "\n",
    "        # Exit?\n",
    "        if cv2.waitKey(1) & 0xFF == ord('q'):\n",
    "            break\n",
    "    else:\n",
    "        break\n",
    "\n",
    "# Release everything if job is finished\n",
    "cap.release()\n",
    "cv2.destroyAllWindows()"
   ]
  },
  {
   "cell_type": "markdown",
   "metadata": {
    "nbpresent": {
     "id": "4ab4ce54-49ec-41a4-ab3f-33ee8d8cfbcb"
    }
   },
   "source": [
    "# 3. Filtrado de imágenes"
   ]
  },
  {
   "cell_type": "markdown",
   "metadata": {
    "nbpresent": {
     "id": "61f02149-01e2-4d54-9bd1-d7dd846badcc"
    }
   },
   "source": [
    "# Referencias\n",
    "* http://www.wikipedia.com\n",
    "* http://www.opencv.org\n",
    "* http://www.python.org\n",
    "* Python para todos. Raúl González Duque.\n"
   ]
  }
 ],
 "metadata": {
  "anaconda-cloud": {},
  "kernelspec": {
   "display_name": "Python 2",
   "language": "python",
   "name": "python2"
  },
  "language_info": {
   "codemirror_mode": {
    "name": "ipython",
    "version": 2
   },
   "file_extension": ".py",
   "mimetype": "text/x-python",
   "name": "python",
   "nbconvert_exporter": "python",
   "pygments_lexer": "ipython2",
   "version": "2.7.12"
  },
  "nbpresent": {
   "slides": {
    "22e9b66f-fd2e-42df-99cd-e4e0f21ad779": {
     "id": "22e9b66f-fd2e-42df-99cd-e4e0f21ad779",
     "prev": "477fec80-ffd1-42e0-8484-27ff3f4898c8",
     "regions": {
      "03918df8-3e2c-4ae3-9a27-26c1a2cbf0c5": {
       "attrs": {
        "height": 0.8,
        "width": 0.8,
        "x": 0.1,
        "y": 0.1
       },
       "content": {
        "cell": "4ab4ce54-49ec-41a4-ab3f-33ee8d8cfbcb",
        "part": "whole"
       },
       "id": "03918df8-3e2c-4ae3-9a27-26c1a2cbf0c5"
      }
     }
    },
    "24557e4b-ec5d-43f2-bf81-bab6bc0cef90": {
     "id": "24557e4b-ec5d-43f2-bf81-bab6bc0cef90",
     "prev": null,
     "regions": {
      "0366134a-f9e8-4ee3-b881-81f69d10a306": {
       "attrs": {
        "height": 0.8,
        "width": 0.8,
        "x": 0.1,
        "y": 0.1
       },
       "content": {
        "cell": "72a7c411-cf21-4d47-a9b9-f5db1f8c9c60",
        "part": "whole"
       },
       "id": "0366134a-f9e8-4ee3-b881-81f69d10a306"
      }
     }
    },
    "3c3beb2d-9d61-4d5a-8994-02de7df212c0": {
     "id": "3c3beb2d-9d61-4d5a-8994-02de7df212c0",
     "prev": "96a74b97-5cea-4633-9068-6187a1db86f2",
     "regions": {
      "9d1e269f-6790-477c-b410-b24d3bd25260": {
       "attrs": {
        "height": 0.8,
        "width": 0.8,
        "x": 0.1,
        "y": 0.1
       },
       "content": {
        "cell": "c46893e7-63cc-4cd0-a5fe-85a94f724611",
        "part": "whole"
       },
       "id": "9d1e269f-6790-477c-b410-b24d3bd25260"
      }
     }
    },
    "477fec80-ffd1-42e0-8484-27ff3f4898c8": {
     "id": "477fec80-ffd1-42e0-8484-27ff3f4898c8",
     "prev": "b0c0a833-6909-4699-9d26-99772e73cf0f",
     "regions": {
      "90449ea6-5afc-49c7-a0c0-f96385d5f3b1": {
       "attrs": {
        "height": 0.8,
        "width": 0.8,
        "x": 0.1,
        "y": 0.1
       },
       "content": {
        "cell": "6fcb7aee-2b44-4099-bb62-88ed8d1a557c",
        "part": "whole"
       },
       "id": "90449ea6-5afc-49c7-a0c0-f96385d5f3b1"
      }
     }
    },
    "6519229c-aad1-404e-bb0e-5f5e24e9166d": {
     "id": "6519229c-aad1-404e-bb0e-5f5e24e9166d",
     "prev": "22e9b66f-fd2e-42df-99cd-e4e0f21ad779",
     "regions": {
      "06daaf59-4da8-42e6-9c06-ee62a11f130d": {
       "attrs": {
        "height": 0.8,
        "width": 0.8,
        "x": 0.1,
        "y": 0.1
       },
       "content": {
        "cell": "61f02149-01e2-4d54-9bd1-d7dd846badcc",
        "part": "whole"
       },
       "id": "06daaf59-4da8-42e6-9c06-ee62a11f130d"
      }
     }
    },
    "651edad8-ab58-4682-a530-d5d52db42903": {
     "id": "651edad8-ab58-4682-a530-d5d52db42903",
     "prev": "24557e4b-ec5d-43f2-bf81-bab6bc0cef90",
     "regions": {
      "6b41e10a-85cb-4b62-9cb9-d945af1bfae9": {
       "attrs": {
        "height": 0.8,
        "width": 0.8,
        "x": 0.1,
        "y": 0.1
       },
       "content": {
        "cell": "7cd741bd-a4ab-4824-9dcd-3708cfbad4e3",
        "part": "whole"
       },
       "id": "6b41e10a-85cb-4b62-9cb9-d945af1bfae9"
      }
     }
    },
    "6e92a7c5-48a3-47c4-83a7-2f78b56827d5": {
     "id": "6e92a7c5-48a3-47c4-83a7-2f78b56827d5",
     "prev": "c7c0225d-9d5f-4edf-a823-f2285eee72cc",
     "regions": {
      "7629b6b1-7cee-4ec2-9d6d-52d8ea7c0253": {
       "attrs": {
        "height": 0.8,
        "width": 0.8,
        "x": 0.1,
        "y": 0.1
       },
       "content": {
        "cell": "5a74133a-56c5-4d91-b13b-33ab05d996ce",
        "part": "whole"
       },
       "id": "7629b6b1-7cee-4ec2-9d6d-52d8ea7c0253"
      }
     }
    },
    "96a74b97-5cea-4633-9068-6187a1db86f2": {
     "id": "96a74b97-5cea-4633-9068-6187a1db86f2",
     "prev": "651edad8-ab58-4682-a530-d5d52db42903",
     "regions": {
      "ffda6832-e8b3-4b95-b1cd-c5261967aed8": {
       "attrs": {
        "height": 0.8,
        "width": 0.8,
        "x": 0.1,
        "y": 0.1
       },
       "content": {
        "cell": "a32ecb3d-7126-45aa-b39c-f245fd0245a4",
        "part": "whole"
       },
       "id": "ffda6832-e8b3-4b95-b1cd-c5261967aed8"
      }
     }
    },
    "98714c80-02b2-40f2-a770-b91ce7c1f3fa": {
     "id": "98714c80-02b2-40f2-a770-b91ce7c1f3fa",
     "prev": "3c3beb2d-9d61-4d5a-8994-02de7df212c0",
     "regions": {
      "502d0bc7-0b3d-4eba-bce3-89606d3733c5": {
       "attrs": {
        "height": 0.8,
        "width": 0.8,
        "x": 0.1,
        "y": 0.1
       },
       "content": {
        "cell": "ce9a3de4-cd6b-4df8-bfb2-9e62e1243c7e",
        "part": "whole"
       },
       "id": "502d0bc7-0b3d-4eba-bce3-89606d3733c5"
      }
     }
    },
    "b0c0a833-6909-4699-9d26-99772e73cf0f": {
     "id": "b0c0a833-6909-4699-9d26-99772e73cf0f",
     "prev": "6e92a7c5-48a3-47c4-83a7-2f78b56827d5",
     "regions": {
      "0b493bb1-915b-485c-9ca4-d4c1254dd071": {
       "attrs": {
        "height": 0.8,
        "width": 0.8,
        "x": 0.1,
        "y": 0.1
       },
       "content": {
        "cell": "53036ea1-9525-4153-ba9b-11f2494d8696",
        "part": "whole"
       },
       "id": "0b493bb1-915b-485c-9ca4-d4c1254dd071"
      }
     }
    },
    "c7c0225d-9d5f-4edf-a823-f2285eee72cc": {
     "id": "c7c0225d-9d5f-4edf-a823-f2285eee72cc",
     "prev": "98714c80-02b2-40f2-a770-b91ce7c1f3fa",
     "regions": {
      "3dd8f6f9-e07c-45ed-80ed-3f63303ca108": {
       "attrs": {
        "height": 0.8,
        "width": 0.8,
        "x": 0.1,
        "y": 0.1
       },
       "content": {
        "cell": "8751a1a2-8b04-4589-a932-4225e954220f",
        "part": "whole"
       },
       "id": "3dd8f6f9-e07c-45ed-80ed-3f63303ca108"
      }
     }
    }
   },
   "themes": {}
  }
 },
 "nbformat": 4,
 "nbformat_minor": 1
}
