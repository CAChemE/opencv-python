{
 "cells": [
  {
   "cell_type": "markdown",
   "metadata": {},
   "source": [
    "# CURSO INTRODUCCIÓN OPENCV Y PYTHON"
   ]
  },
  {
   "cell_type": "markdown",
   "metadata": {},
   "source": [
    "¿Quién soy?\n",
    "\n",
    "**Rubén Crespo Cano**\n",
    "\n",
    "Estudios:\n",
    "* Ingeniería en Informática [Universidad de Alicante] (2006 - 2012)\n",
    "* Máster en Ingeniería de Telecomunicación [Universidad de Alicante] (2012 - 2015)\n",
    "* Doctorado en Informática [Universidad de Alicante] (2016 - )\n",
    "\n",
    "Trabajo:\n",
    "* Ingeniero de software en Everilion (http://www.everilion.com)"
   ]
  },
  {
   "cell_type": "markdown",
   "metadata": {},
   "source": [
    "# 0. Introducción\n",
    "\n",
    "## OpenCV\n",
    "OpenCV es una biblioteca de visión artificial de código libre, escrita en C++, originalmente desarrollada por Intel. Fue construida para proporcionar una infrastructura común para aplicaciones de visión por computador. \n",
    "\n",
    "La librería contiene más de 2500 algoritmos optimizados, entre los que se incluyen algoritmos clásicos y algoritmos del estado del arte de los campos de visión por computador y aprendizaje automático.\n",
    "\n",
    "Características principales:\n",
    "* Licencia BSD.\n",
    "* Interfaces: C++, C, Python, Java y MATLAB.\n",
    "* Sistemas Operativos: Windows, GNU/Linux, Android y Mac OS.\n",
    "* Soporte CUDA y OpenCL.\n",
    "\n",
    "URL: http://www.opencv.org\n",
    "\n",
    "## Python\n",
    "Python es un lenguaje de programación creado por Guido van Rossum a principios de los años 90 cuyo nombre está inspirado en el grupo de cómicos ingleses *Monty Python*. Es un lenguaje similar a Perl, pero con una sintaxis muy limpia y que favorece un código legible.\n",
    "\n",
    "Se trata de un lenguaje interpretado o de script, con tipado dinámico, fuertemente tipado, multiplataforma y orientado a objetos."
   ]
  },
  {
   "cell_type": "markdown",
   "metadata": {},
   "source": [
    "# 1. Manejo de ficheros, cámaras e interfaces gráficas de usuario"
   ]
  },
  {
   "cell_type": "markdown",
   "metadata": {},
   "source": [
    "# 2. Filtrado de imágenes"
   ]
  },
  {
   "cell_type": "markdown",
   "metadata": {},
   "source": [
    "# Referencias\n",
    "* http://www.wikipedia.com\n",
    "* http://www.opencv.org\n",
    "* http://www.python.org\n",
    "* Python para todos. Raúl González Duque.\n"
   ]
  }
 ],
 "metadata": {
  "anaconda-cloud": {},
  "kernelspec": {
   "display_name": "Python [default]",
   "language": "python",
   "name": "python2"
  },
  "language_info": {
   "codemirror_mode": {
    "name": "ipython",
    "version": 2
   },
   "file_extension": ".py",
   "mimetype": "text/x-python",
   "name": "python",
   "nbconvert_exporter": "python",
   "pygments_lexer": "ipython2",
   "version": "2.7.12"
  }
 },
 "nbformat": 4,
 "nbformat_minor": 1
}
